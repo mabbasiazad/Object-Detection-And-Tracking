{
 "cells": [
  {
   "cell_type": "markdown",
   "metadata": {},
   "source": [
    "### ChallengeB: move the camera such as the ROI is in the center of the frame"
   ]
  },
  {
   "cell_type": "markdown",
   "metadata": {},
   "source": [
    "#### Note: For calculations and notations please refer to the paper attached."
   ]
  },
  {
   "cell_type": "code",
   "execution_count": 1,
   "metadata": {},
   "outputs": [],
   "source": [
    "import numpy as np"
   ]
  },
  {
   "cell_type": "code",
   "execution_count": 2,
   "metadata": {},
   "outputs": [],
   "source": [
    "class Camera():\n",
    "    def __init__(self):\n",
    "        #initializa pan and tilt angles of the class Camera to 0 rad.\n",
    "        self.sensorSize = 1 / 2.8 # [inch]\n",
    "        self.opticalZoom = 25   # 25X\n",
    "        self.focalLengthMin = 4.8 # [mm]\n",
    "        self.focalLengthMax = 120 \n",
    "        self.resolution = (1920, 1080)\n",
    "        self.pixelWidth  = 2.9e-3    # [mm] - assumption: pixel size = 2.9um x 2.9 um\n",
    "        self.pixelHeight  = 2.9e-3  # [mm] - assumption: pixel size = 2.9um x 2.9 um\n",
    "        \n",
    "        self.alpha = 0.0 #initialize pan \n",
    "        self.beta = 0.0  #initialize tilt\n",
    "    \n",
    "    # Utility Func.\n",
    "    def calcFocalLength(self, zoom):\n",
    "        \"\"\"\n",
    "        Compute focal length given zoom level in %       \n",
    "        Args:\n",
    "            zoom: current zoom level[%]\n",
    "        Returns:\n",
    "            FocalLength : corresponding zoom [mm] \n",
    "        \"\"\"\n",
    "        # changing the zoom from % to X\n",
    "        opticalZoomSpan = self.opticalZoom - 1\n",
    "        zoom_X = opticalZoomSpan * zoom / 100 + 1\n",
    "        \n",
    "        # calculating the focal length in mm\n",
    "        focalLengthSpan = self.focalLengthMax - self.focalLengthMin \n",
    "        m = focalLengthSpan / opticalZoomSpan  #slope of the line\n",
    "        b = self.focalLengthMin - m            #line bias \n",
    "        FocalLength = m * zoom_X + b\n",
    "\n",
    "        return FocalLength\n",
    "\n",
    "\n",
    "    def pixel_to_steps (self, roi_pixel_coord, currentZoom):\n",
    "        \"\"\"\n",
    "        Coverts pixel coordinates to desired pan and tilt angle \n",
    "        that would would center the Water Hole (after panning and tilting the camera), \n",
    "        given the camera's current pan & tilt\n",
    "        \n",
    "        Args:\n",
    "            roi_pixel_coord: (px, tx) representing pixel coordinate of the ROI\n",
    "            currentZoom: 0 to 100 representing current zoom level\n",
    "        \n",
    "        Returns:\n",
    "            desired pan (alpha_des) [rad] \n",
    "            desired tilt (beta_des) [rad]\n",
    "        \"\"\"\n",
    "        R_y = np.array([[np.cos(self.alpha), 0, np.sin(self.alpha)], [0, 1, 0], [-np.sin(self.alpha), 0, np.cos(self.alpha)]])\n",
    "        R_x = np.array([[1, 0, 0], [0, np.cos(self.beta), -np.sin(self.beta)], [0, np.sin(self.beta), np.cos(self.beta)]])\n",
    "        \n",
    "        M_RotCI = R_y @ R_x    # MRotCI transforms Camera{C} coordinates into Inertia{I} coordinates.\n",
    "        \n",
    "        f = self.calcFocalLength(currentZoom)\n",
    "        x = roi_pixel_coord[0]\n",
    "        y = roi_pixel_coord[1]\n",
    "        x_0 =  self.resolution[0] / 2   # image midpoint x pixel coordinate \n",
    "        y_0 =  self.resolution[1] / 2   # image midpoint y pixel coordinate\n",
    "        \n",
    "        f_x = self.pixelWidth / f       # const.\n",
    "        f_y = self.pixelHeight / f      #const.\n",
    "        \n",
    "        d_C = np.array([f_x * (x - x_0), f_y * (y - y_0), 1])   # Water Hole coordinate in Camera{C} frame.\n",
    "        \n",
    "        d_I = M_RotCI @ d_C # Transformation of Water Hole coordination from Camera{C} frame to Inertia{C} frame.       \n",
    "\n",
    "        alpha_des = -np.arctan2(d_I[0], d_I[2])\n",
    "        beta_des = np.arctan2(d_I[1], d_I[2] / np.cos(alpha_des))\n",
    "        \n",
    "        return (alpha_des, beta_des)\n",
    "\n",
    "    def move_camera(self, pt_coordinate):\n",
    "        \n",
    "        \n",
    "        \n",
    "        # the number of movement step \n",
    "        pan_step =  round(pt_coordinate[0] * 180 / np.pi)  # rad to deg conversion-each degree = 1 step\n",
    "        tilt_step = round(pt_coordinate[1] * 180 / np.pi)   # rad to deg conversion-each degree = 1 step \n",
    "        \n",
    "        # the camera position after movement\n",
    "        self.alpha = pt_coordinate[0]\n",
    "        self.beta = pt_coordinate[1]\n",
    "        \n",
    "        return (pan_step, tilt_step)"
   ]
  },
  {
   "cell_type": "code",
   "execution_count": 9,
   "metadata": {},
   "outputs": [
    {
     "name": "stdout",
     "output_type": "stream",
     "text": [
      "(-0.16896181431958118, 0.09430886119958314)\n",
      "(-10, 5)\n"
     ]
    }
   ],
   "source": [
    "camera = Camera()\n",
    "roi_pixel_coord = (1920, 1080) \n",
    "currentZoom = 10\n",
    "pt_coordinate = camera.pixel_to_steps(roi_pixel_coord, currentZoom)\n",
    "pt_steps = camera.move_camera(pt_coordinate) \n",
    "\n",
    "print(pt_coordinate)\n",
    "print(pt_steps)"
   ]
  },
  {
   "cell_type": "code",
   "execution_count": null,
   "metadata": {},
   "outputs": [],
   "source": []
  }
 ],
 "metadata": {
  "kernelspec": {
   "display_name": "Python 3",
   "language": "python",
   "name": "python3"
  },
  "language_info": {
   "codemirror_mode": {
    "name": "ipython",
    "version": 3
   },
   "file_extension": ".py",
   "mimetype": "text/x-python",
   "name": "python",
   "nbconvert_exporter": "python",
   "pygments_lexer": "ipython3",
   "version": "3.8.5"
  }
 },
 "nbformat": 4,
 "nbformat_minor": 4
}
